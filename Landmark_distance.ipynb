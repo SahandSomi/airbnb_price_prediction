{
 "cells": [
  {
   "cell_type": "code",
   "execution_count": 60,
   "metadata": {},
   "outputs": [],
   "source": [
    "from pathlib import Path\n",
    "from pyprojroot import here as get_project_root\n",
    "import pandas as pd\n",
    "import user_config\n",
    "import openrouteservice\n",
    "from tqdm import tqdm\n",
    "import numpy as np"
   ]
  },
  {
   "cell_type": "code",
   "execution_count": 61,
   "metadata": {},
   "outputs": [],
   "source": [
    "DATA_DIR = get_project_root() / Path('Data/AB_NYC_2019.CSV')\n",
    "df = pd.read_csv(DATA_DIR)"
   ]
  },
  {
   "cell_type": "code",
   "execution_count": 62,
   "metadata": {},
   "outputs": [],
   "source": [
    "df.drop(columns=[\"reviews_per_month\"], inplace = True)"
   ]
  },
  {
   "cell_type": "code",
   "execution_count": 63,
   "metadata": {},
   "outputs": [],
   "source": [
    "dicts = {\"museum_of_the_city_of_new_york\":[-73.95173723862581,40.792721332243424],\"central_park\": [-73.9665,40.7812],\n",
    "         \"empire_state\": [-73.9857,40.7484],\"swindler_cove\": [-73.92222564813287,40.85773054019593], \"broadway\": [-73.9606094063492,40.8125904023755],\n",
    "         \"rockefeller center\": [-73.97836830773863,40.75942720281938],\"time_square\": [-73.9855,40.7580], \"brooklyn_bridge\":[-73.99681040797579, 40.70622338681765],\n",
    "         \"statue_of_lib\":[-74.04472552059823,40.690848574601254],\"st_joseph's_church\":[-74.0004287074178,40.7332446493045],\"brooklyn_botanic_garden\": [-73.9595,40.6751],\n",
    "         \"nyc_stock\": [-74.01126480221173,40.70707097246732],\n",
    "         \"dyker_heights\":[-74.01490900665057,40.62061396809141],\"prospect_park_zoo\": [-73.96518034611395,40.665425437973745],\n",
    "         \"industry_city\": [-74.00676060221339,40.65666282014373], \"grand army plaza\" : [-73.97013613104872,40.67415497232557],\n",
    "         \"brooklyn jeights promenade\" :[-73.99754651755569,40.69634813206317], \"brooklyn_museum_fountain\":[-73.9632440982908,40.67328231539857],\n",
    "         \"Rockaways\": [-73.79696290903532,40.59738047775327], \"forest_hills_stadium\" : [-73.84972190036011,40.71986882944299], \n",
    "         \"american_airpower_museum\": [-73.41312871200067,40.737322880697604], \"Coliseum\" :[-73.5906098868677,40.7234566623175],\n",
    "         \"little_italy\" :[-73.8883111069597,40.85491001033554],\"Cloisters\" :[-73.9317166733707,40.86506562235952],\n",
    "         \"new_york_botanical_garden\": [-73.8809571062774, 40.86187280886701], \"yankee_stadium\": [-73.92617095427602,40.82982931483368],\n",
    "         \"bronx_zoo\": [-73.87713952039839,40.85075073657885],\"woodlawn_cemetery\": [-73.87203373104172,40.88846797239579],\n",
    "         \"graniteville\": [-74.15561076273154,40.618268680685965],\"lighthouse\": [-74.05397751315259,40.60626286615651],\n",
    "         \"seguine_mansion\": [-74.19753777338218,40.51538317680971]\n",
    "         ,\"jfk_airport\": [-73.8231,40.6657], \"lga_airport\":[-73.87811641904027,40.791040353164924], \"ewr_airport\":[-74.1769661531896,40.69932817944298]}\n",
    "\n",
    "dist = [*dicts.values()]"
   ]
  },
  {
   "cell_type": "code",
   "execution_count": 64,
   "metadata": {},
   "outputs": [
    {
     "data": {
      "text/html": [
       "<div>\n",
       "<style scoped>\n",
       "    .dataframe tbody tr th:only-of-type {\n",
       "        vertical-align: middle;\n",
       "    }\n",
       "\n",
       "    .dataframe tbody tr th {\n",
       "        vertical-align: top;\n",
       "    }\n",
       "\n",
       "    .dataframe thead th {\n",
       "        text-align: right;\n",
       "    }\n",
       "</style>\n",
       "<table border=\"1\" class=\"dataframe\">\n",
       "  <thead>\n",
       "    <tr style=\"text-align: right;\">\n",
       "      <th></th>\n",
       "      <th>id</th>\n",
       "      <th>name</th>\n",
       "      <th>host_id</th>\n",
       "      <th>host_name</th>\n",
       "      <th>neighbourhood_group</th>\n",
       "      <th>neighbourhood</th>\n",
       "      <th>latitude</th>\n",
       "      <th>longitude</th>\n",
       "      <th>room_type</th>\n",
       "      <th>price</th>\n",
       "      <th>minimum_nights</th>\n",
       "      <th>number_of_reviews</th>\n",
       "      <th>last_review</th>\n",
       "      <th>calculated_host_listings_count</th>\n",
       "      <th>availability_365</th>\n",
       "      <th>coor</th>\n",
       "    </tr>\n",
       "  </thead>\n",
       "  <tbody>\n",
       "    <tr>\n",
       "      <th>0</th>\n",
       "      <td>2539</td>\n",
       "      <td>Clean &amp; quiet apt home by the park</td>\n",
       "      <td>2787</td>\n",
       "      <td>John</td>\n",
       "      <td>Brooklyn</td>\n",
       "      <td>Kensington</td>\n",
       "      <td>40.64749</td>\n",
       "      <td>-73.97237</td>\n",
       "      <td>Private room</td>\n",
       "      <td>149</td>\n",
       "      <td>1</td>\n",
       "      <td>9</td>\n",
       "      <td>2018-10-19</td>\n",
       "      <td>6</td>\n",
       "      <td>365</td>\n",
       "      <td>(-73.97237, 40.64749)</td>\n",
       "    </tr>\n",
       "    <tr>\n",
       "      <th>1</th>\n",
       "      <td>2595</td>\n",
       "      <td>Skylit Midtown Castle</td>\n",
       "      <td>2845</td>\n",
       "      <td>Jennifer</td>\n",
       "      <td>Manhattan</td>\n",
       "      <td>Midtown</td>\n",
       "      <td>40.75362</td>\n",
       "      <td>-73.98377</td>\n",
       "      <td>Entire home/apt</td>\n",
       "      <td>225</td>\n",
       "      <td>1</td>\n",
       "      <td>45</td>\n",
       "      <td>2019-05-21</td>\n",
       "      <td>2</td>\n",
       "      <td>355</td>\n",
       "      <td>(-73.98377, 40.75362)</td>\n",
       "    </tr>\n",
       "    <tr>\n",
       "      <th>2</th>\n",
       "      <td>3647</td>\n",
       "      <td>THE VILLAGE OF HARLEM....NEW YORK !</td>\n",
       "      <td>4632</td>\n",
       "      <td>Elisabeth</td>\n",
       "      <td>Manhattan</td>\n",
       "      <td>Harlem</td>\n",
       "      <td>40.80902</td>\n",
       "      <td>-73.94190</td>\n",
       "      <td>Private room</td>\n",
       "      <td>150</td>\n",
       "      <td>3</td>\n",
       "      <td>0</td>\n",
       "      <td>NaN</td>\n",
       "      <td>1</td>\n",
       "      <td>365</td>\n",
       "      <td>(-73.9419, 40.80902)</td>\n",
       "    </tr>\n",
       "    <tr>\n",
       "      <th>3</th>\n",
       "      <td>3831</td>\n",
       "      <td>Cozy Entire Floor of Brownstone</td>\n",
       "      <td>4869</td>\n",
       "      <td>LisaRoxanne</td>\n",
       "      <td>Brooklyn</td>\n",
       "      <td>Clinton Hill</td>\n",
       "      <td>40.68514</td>\n",
       "      <td>-73.95976</td>\n",
       "      <td>Entire home/apt</td>\n",
       "      <td>89</td>\n",
       "      <td>1</td>\n",
       "      <td>270</td>\n",
       "      <td>2019-07-05</td>\n",
       "      <td>1</td>\n",
       "      <td>194</td>\n",
       "      <td>(-73.95976, 40.68514)</td>\n",
       "    </tr>\n",
       "    <tr>\n",
       "      <th>4</th>\n",
       "      <td>5022</td>\n",
       "      <td>Entire Apt: Spacious Studio/Loft by central park</td>\n",
       "      <td>7192</td>\n",
       "      <td>Laura</td>\n",
       "      <td>Manhattan</td>\n",
       "      <td>East Harlem</td>\n",
       "      <td>40.79851</td>\n",
       "      <td>-73.94399</td>\n",
       "      <td>Entire home/apt</td>\n",
       "      <td>80</td>\n",
       "      <td>10</td>\n",
       "      <td>9</td>\n",
       "      <td>2018-11-19</td>\n",
       "      <td>1</td>\n",
       "      <td>0</td>\n",
       "      <td>(-73.94399, 40.79851)</td>\n",
       "    </tr>\n",
       "  </tbody>\n",
       "</table>\n",
       "</div>"
      ],
      "text/plain": [
       "     id                                              name  host_id  \\\n",
       "0  2539                Clean & quiet apt home by the park     2787   \n",
       "1  2595                             Skylit Midtown Castle     2845   \n",
       "2  3647               THE VILLAGE OF HARLEM....NEW YORK !     4632   \n",
       "3  3831                   Cozy Entire Floor of Brownstone     4869   \n",
       "4  5022  Entire Apt: Spacious Studio/Loft by central park     7192   \n",
       "\n",
       "     host_name neighbourhood_group neighbourhood  latitude  longitude  \\\n",
       "0         John            Brooklyn    Kensington  40.64749  -73.97237   \n",
       "1     Jennifer           Manhattan       Midtown  40.75362  -73.98377   \n",
       "2    Elisabeth           Manhattan        Harlem  40.80902  -73.94190   \n",
       "3  LisaRoxanne            Brooklyn  Clinton Hill  40.68514  -73.95976   \n",
       "4        Laura           Manhattan   East Harlem  40.79851  -73.94399   \n",
       "\n",
       "         room_type  price  minimum_nights  number_of_reviews last_review  \\\n",
       "0     Private room    149               1                  9  2018-10-19   \n",
       "1  Entire home/apt    225               1                 45  2019-05-21   \n",
       "2     Private room    150               3                  0         NaN   \n",
       "3  Entire home/apt     89               1                270  2019-07-05   \n",
       "4  Entire home/apt     80              10                  9  2018-11-19   \n",
       "\n",
       "   calculated_host_listings_count  availability_365                   coor  \n",
       "0                               6               365  (-73.97237, 40.64749)  \n",
       "1                               2               355  (-73.98377, 40.75362)  \n",
       "2                               1               365   (-73.9419, 40.80902)  \n",
       "3                               1               194  (-73.95976, 40.68514)  \n",
       "4                               1                 0  (-73.94399, 40.79851)  "
      ]
     },
     "execution_count": 64,
     "metadata": {},
     "output_type": "execute_result"
    }
   ],
   "source": [
    "df['coor'] = np.array(zip(df.longitude, df.latitude))\n",
    "df.head(5)"
   ]
  },
  {
   "cell_type": "code",
   "execution_count": 65,
   "metadata": {},
   "outputs": [],
   "source": [
    "API_key = user_config.user_key #enter the key you got from Google. I removed mine here\n",
    "\n",
    "client = openrouteservice.Client(key=API_key)\n"
   ]
  },
  {
   "cell_type": "code",
   "execution_count": 66,
   "metadata": {},
   "outputs": [],
   "source": [
    "value_dict_time = {\"museum_of_the_city_of_new_york\":[],\"central_park\": [],\n",
    "         \"empire_state\": [],\"swindler_cove\": [], \"broadway\": [],\n",
    "         \"rockefeller center\": [],\"time_square\": [], \"brooklyn_bridge\":[],\n",
    "         \"statue_of_lib\":[],\"st_joseph's_church\":[],\"brooklyn_botanic_garden\": [],\n",
    "         \"nyc_stock\": [],\n",
    "         \"dyker_heights\":[],\"prospect_park_zoo\": [],\n",
    "         \"industry_city\": [], \"grand army plaza\" : [],\n",
    "         \"brooklyn jeights promenade\" :[], \"brooklyn_museum_fountain\":[],\n",
    "         \"Rockaways\": [], \"forest_hills_stadium\" : [], \n",
    "         \"american_airpower_museum\": [], \"Coliseum\" :[],\n",
    "         \"little_italy\" :[],\"Cloisters\" :[],\n",
    "         \"new_york_botanical_garden\": [], \"yankee_stadium\": [],\n",
    "         \"bronx_zoo\": [],\"woodlawn_cemetery\": [],\n",
    "         \"graniteville\": [],\"lighthouse\": [],\n",
    "         \"seguine_mansion\": []\n",
    "         ,\"jfk_airport\": [], \"lga_airport\":[], \"ewr_airport\":[]}\n",
    "\n",
    "value_dict_dist = {\"museum_of_the_city_of_new_york\":[],\"central_park\": [],\n",
    "         \"empire_state\": [],\"swindler_cove\": [], \"broadway\": [],\n",
    "         \"rockefeller center\": [],\"time_square\": [], \"brooklyn_bridge\":[],\n",
    "         \"statue_of_lib\":[],\"st_joseph's_church\":[],\"brooklyn_botanic_garden\": [],\n",
    "         \"nyc_stock\": [],\n",
    "         \"dyker_heights\":[],\"prospect_park_zoo\": [],\n",
    "         \"industry_city\": [], \"grand army plaza\" : [],\n",
    "         \"brooklyn jeights promenade\" :[], \"brooklyn_museum_fountain\":[],\n",
    "         \"Rockaways\": [], \"forest_hills_stadium\" : [], \n",
    "         \"american_airpower_museum\": [], \"Coliseum\" :[],\n",
    "         \"little_italy\" :[],\"Cloisters\" :[],\n",
    "         \"new_york_botanical_garden\": [], \"yankee_stadium\": [],\n",
    "         \"bronx_zoo\": [],\"woodlawn_cemetery\": [],\n",
    "         \"graniteville\": [],\"lighthouse\": [],\n",
    "         \"seguine_mansion\": []\n",
    "         ,\"jfk_airport\": [], \"lga_airport\":[], \"ewr_airport\":[]}\n",
    "\n",
    "array_50 =[]\n",
    "for i in df['coor']:\n",
    "    array_50.append(i)\n",
    "    if len(array_50) == 50:\n",
    "        coordit = array_50 + dist\n",
    "        array_50 = []\n",
    "        check = client.distance_matrix(locations=coordit,\n",
    "                              metrics=['distance'],\n",
    "                              profile='foot-walking',\n",
    "                              sources=list(range(50)),\n",
    "                              destinations = list(range(50,50+len(dicts))),\n",
    "                              validate=False)\n",
    "        j = 0\n",
    "        for name in value_dict_time:\n",
    "            \n",
    "            #value_time = [round(x / 60.0,4) if x is not None else -1 for x in np.transpose(check['durations'])[j]]\n",
    "            value_dist = [round(x / 100.0,4) if x is not None else -1 for x in np.transpose(check['distances'])[j]]\n",
    "            \n",
    "            #value_dict_time[name].append(value_time)\n",
    "            value_dict_dist[name].append(value_dist)\n",
    "            j += 1\n",
    "               "
   ]
  },
  {
   "cell_type": "code",
   "execution_count": 67,
   "metadata": {},
   "outputs": [],
   "source": [
    "# array_50 = df.loc[(len(df)-45):,'coor']\n",
    "# array_50 = [[i[0],i[1]] for i in array_50]\n",
    "coordit = array_50 + dist\n",
    "array_50 = []\n",
    "check = client.distance_matrix(locations=coordit,\n",
    "                              metrics=['distance'],\n",
    "                              profile='foot-walking',\n",
    "                              sources=list(range(45)),\n",
    "                              destinations = list(range(45,45+len(dicts))),\n",
    "                              validate=False)\n",
    "j = 0\n",
    "for name in value_dict_time:\n",
    "            \n",
    "    #value_time = [round(x / 60.0,4) if x is not None else -1 for x in np.transpose(check['durations'])[j]]\n",
    "    value_dist = [round(x / 100.0,4) if x is not None else -1 for x in np.transpose(check['distances'])[j]]\n",
    "            \n",
    "    #value_dict_time[name].append(value_time)\n",
    "    value_dict_dist[name].append(value_dist)\n",
    "    j += 1"
   ]
  },
  {
   "cell_type": "code",
   "execution_count": 68,
   "metadata": {},
   "outputs": [
    {
     "data": {
      "text/plain": [
       "34"
      ]
     },
     "execution_count": 68,
     "metadata": {},
     "output_type": "execute_result"
    }
   ],
   "source": [
    "len(value_dict_dist)"
   ]
  },
  {
   "cell_type": "code",
   "execution_count": 69,
   "metadata": {},
   "outputs": [],
   "source": [
    "def flatten(t):\n",
    "    return [item for sublist in t for item in sublist]"
   ]
  },
  {
   "cell_type": "code",
   "execution_count": 74,
   "metadata": {},
   "outputs": [],
   "source": [
    "for i in value_dict_dist:\n",
    "    q = flatten(value_dict_dist[i])\n",
    "    df[i]=q"
   ]
  },
  {
   "cell_type": "code",
   "execution_count": 19,
   "metadata": {},
   "outputs": [],
   "source": [
    "q_1 = flatten(value_dict_time[\"central_park\"])\n",
    "q_2 = flatten(value_dict_time[\"airport\"])\n",
    "q_3 = flatten(value_dict_time[\"empire_state\"])\n",
    "q_4 = flatten(value_dict_time[\"time_square\"])\n",
    "q_5 = flatten(value_dict_time[\"brooklyn_botanic_garden\"])"
   ]
  },
  {
   "cell_type": "code",
   "execution_count": 21,
   "metadata": {},
   "outputs": [],
   "source": [
    "d_1 = flatten(value_dict_dist[\"central_park\"])\n",
    "d_2 = flatten(value_dict_dist[\"airport\"])\n",
    "d_3 = flatten(value_dict_dist[\"empire_state\"])\n",
    "d_4 = flatten(value_dict_dist[\"time_square\"])\n",
    "d_5 = flatten(value_dict_dist[\"brooklyn_botanic_garden\"])"
   ]
  },
  {
   "cell_type": "code",
   "execution_count": 22,
   "metadata": {},
   "outputs": [],
   "source": [
    "df[\"time_to_central_park\"] = q_1\n",
    "df[\"time_to_airport\"] = q_2\n",
    "df[\"time_to_empire_state\"] = q_3\n",
    "df[\"time_to_time_square\"] = q_4\n",
    "df[\"time_to_brooklyn_botanic_garden\"] = q_5"
   ]
  },
  {
   "cell_type": "code",
   "execution_count": 23,
   "metadata": {},
   "outputs": [],
   "source": [
    "df[\"distance_to_central_park\"] = d_1\n",
    "df[\"distance_to_airport\"] = d_2\n",
    "df[\"distance_to_empire_state\"] = d_3\n",
    "df[\"distance_to_time_square\"] = d_4\n",
    "df[\"distance_to_brooklyn_botanic_garden\"] = d_5"
   ]
  },
  {
   "cell_type": "code",
   "execution_count": 75,
   "metadata": {},
   "outputs": [],
   "source": [
    "df_final = df.drop(columns=['coor', 'latitude','longitude'])"
   ]
  },
  {
   "cell_type": "code",
   "execution_count": 76,
   "metadata": {},
   "outputs": [],
   "source": [
    "df_final.to_csv('data_time.csv',index=False)"
   ]
  },
  {
   "cell_type": "code",
   "execution_count": null,
   "metadata": {},
   "outputs": [],
   "source": []
  }
 ],
 "metadata": {
  "kernelspec": {
   "display_name": "Python 3",
   "language": "python",
   "name": "python3"
  },
  "language_info": {
   "codemirror_mode": {
    "name": "ipython",
    "version": 3
   },
   "file_extension": ".py",
   "mimetype": "text/x-python",
   "name": "python",
   "nbconvert_exporter": "python",
   "pygments_lexer": "ipython3",
   "version": "3.7.0"
  }
 },
 "nbformat": 4,
 "nbformat_minor": 2
}
