{
 "cells": [
  {
   "cell_type": "code",
   "execution_count": 1,
   "metadata": {},
   "outputs": [],
   "source": [
    "from pathlib import Path\n",
    "from pyprojroot import here as get_project_root\n",
    "import pandas as pd\n",
    "import user_config\n",
    "import openrouteservice\n",
    "from tqdm import tqdm\n",
    "import numpy as np"
   ]
  },
  {
   "cell_type": "code",
   "execution_count": 2,
   "metadata": {},
   "outputs": [],
   "source": [
    "DATA_DIR = get_project_root() / Path('Data/AB_NYC_2019.CSV')\n",
    "df = pd.read_csv(DATA_DIR)"
   ]
  },
  {
   "cell_type": "code",
   "execution_count": 3,
   "metadata": {},
   "outputs": [],
   "source": [
    "df.drop(columns=[\"last_review\", \"reviews_per_month\", \"availability_365\"], inplace = True)"
   ]
  },
  {
   "cell_type": "code",
   "execution_count": 4,
   "metadata": {},
   "outputs": [],
   "source": [
    "dicts = {\"central_park\": [-73.9665,40.7812],\"airport\": [-73.8231,40.6657], \"empire_state\": [-73.9857,40.7484], \n",
    "         \"time_square\": [-73.9855,40.7580],\"brooklyn_botanic_garden\": [-73.9595,40.6751]}\n",
    "dist = [*dicts.values()]"
   ]
  },
  {
   "cell_type": "code",
   "execution_count": 5,
   "metadata": {},
   "outputs": [
    {
     "data": {
      "text/html": [
       "<div>\n",
       "<style scoped>\n",
       "    .dataframe tbody tr th:only-of-type {\n",
       "        vertical-align: middle;\n",
       "    }\n",
       "\n",
       "    .dataframe tbody tr th {\n",
       "        vertical-align: top;\n",
       "    }\n",
       "\n",
       "    .dataframe thead th {\n",
       "        text-align: right;\n",
       "    }\n",
       "</style>\n",
       "<table border=\"1\" class=\"dataframe\">\n",
       "  <thead>\n",
       "    <tr style=\"text-align: right;\">\n",
       "      <th></th>\n",
       "      <th>id</th>\n",
       "      <th>name</th>\n",
       "      <th>host_id</th>\n",
       "      <th>host_name</th>\n",
       "      <th>neighbourhood_group</th>\n",
       "      <th>neighbourhood</th>\n",
       "      <th>latitude</th>\n",
       "      <th>longitude</th>\n",
       "      <th>room_type</th>\n",
       "      <th>price</th>\n",
       "      <th>minimum_nights</th>\n",
       "      <th>number_of_reviews</th>\n",
       "      <th>calculated_host_listings_count</th>\n",
       "      <th>coor</th>\n",
       "    </tr>\n",
       "  </thead>\n",
       "  <tbody>\n",
       "    <tr>\n",
       "      <th>0</th>\n",
       "      <td>2539</td>\n",
       "      <td>Clean &amp; quiet apt home by the park</td>\n",
       "      <td>2787</td>\n",
       "      <td>John</td>\n",
       "      <td>Brooklyn</td>\n",
       "      <td>Kensington</td>\n",
       "      <td>40.64749</td>\n",
       "      <td>-73.97237</td>\n",
       "      <td>Private room</td>\n",
       "      <td>149</td>\n",
       "      <td>1</td>\n",
       "      <td>9</td>\n",
       "      <td>6</td>\n",
       "      <td>(-73.97237, 40.64749)</td>\n",
       "    </tr>\n",
       "    <tr>\n",
       "      <th>1</th>\n",
       "      <td>2595</td>\n",
       "      <td>Skylit Midtown Castle</td>\n",
       "      <td>2845</td>\n",
       "      <td>Jennifer</td>\n",
       "      <td>Manhattan</td>\n",
       "      <td>Midtown</td>\n",
       "      <td>40.75362</td>\n",
       "      <td>-73.98377</td>\n",
       "      <td>Entire home/apt</td>\n",
       "      <td>225</td>\n",
       "      <td>1</td>\n",
       "      <td>45</td>\n",
       "      <td>2</td>\n",
       "      <td>(-73.98377, 40.75362)</td>\n",
       "    </tr>\n",
       "    <tr>\n",
       "      <th>2</th>\n",
       "      <td>3647</td>\n",
       "      <td>THE VILLAGE OF HARLEM....NEW YORK !</td>\n",
       "      <td>4632</td>\n",
       "      <td>Elisabeth</td>\n",
       "      <td>Manhattan</td>\n",
       "      <td>Harlem</td>\n",
       "      <td>40.80902</td>\n",
       "      <td>-73.94190</td>\n",
       "      <td>Private room</td>\n",
       "      <td>150</td>\n",
       "      <td>3</td>\n",
       "      <td>0</td>\n",
       "      <td>1</td>\n",
       "      <td>(-73.9419, 40.80902)</td>\n",
       "    </tr>\n",
       "    <tr>\n",
       "      <th>3</th>\n",
       "      <td>3831</td>\n",
       "      <td>Cozy Entire Floor of Brownstone</td>\n",
       "      <td>4869</td>\n",
       "      <td>LisaRoxanne</td>\n",
       "      <td>Brooklyn</td>\n",
       "      <td>Clinton Hill</td>\n",
       "      <td>40.68514</td>\n",
       "      <td>-73.95976</td>\n",
       "      <td>Entire home/apt</td>\n",
       "      <td>89</td>\n",
       "      <td>1</td>\n",
       "      <td>270</td>\n",
       "      <td>1</td>\n",
       "      <td>(-73.95976, 40.68514)</td>\n",
       "    </tr>\n",
       "    <tr>\n",
       "      <th>4</th>\n",
       "      <td>5022</td>\n",
       "      <td>Entire Apt: Spacious Studio/Loft by central park</td>\n",
       "      <td>7192</td>\n",
       "      <td>Laura</td>\n",
       "      <td>Manhattan</td>\n",
       "      <td>East Harlem</td>\n",
       "      <td>40.79851</td>\n",
       "      <td>-73.94399</td>\n",
       "      <td>Entire home/apt</td>\n",
       "      <td>80</td>\n",
       "      <td>10</td>\n",
       "      <td>9</td>\n",
       "      <td>1</td>\n",
       "      <td>(-73.94399, 40.79851)</td>\n",
       "    </tr>\n",
       "  </tbody>\n",
       "</table>\n",
       "</div>"
      ],
      "text/plain": [
       "     id                                              name  host_id  \\\n",
       "0  2539                Clean & quiet apt home by the park     2787   \n",
       "1  2595                             Skylit Midtown Castle     2845   \n",
       "2  3647               THE VILLAGE OF HARLEM....NEW YORK !     4632   \n",
       "3  3831                   Cozy Entire Floor of Brownstone     4869   \n",
       "4  5022  Entire Apt: Spacious Studio/Loft by central park     7192   \n",
       "\n",
       "     host_name neighbourhood_group neighbourhood  latitude  longitude  \\\n",
       "0         John            Brooklyn    Kensington  40.64749  -73.97237   \n",
       "1     Jennifer           Manhattan       Midtown  40.75362  -73.98377   \n",
       "2    Elisabeth           Manhattan        Harlem  40.80902  -73.94190   \n",
       "3  LisaRoxanne            Brooklyn  Clinton Hill  40.68514  -73.95976   \n",
       "4        Laura           Manhattan   East Harlem  40.79851  -73.94399   \n",
       "\n",
       "         room_type  price  minimum_nights  number_of_reviews  \\\n",
       "0     Private room    149               1                  9   \n",
       "1  Entire home/apt    225               1                 45   \n",
       "2     Private room    150               3                  0   \n",
       "3  Entire home/apt     89               1                270   \n",
       "4  Entire home/apt     80              10                  9   \n",
       "\n",
       "   calculated_host_listings_count                   coor  \n",
       "0                               6  (-73.97237, 40.64749)  \n",
       "1                               2  (-73.98377, 40.75362)  \n",
       "2                               1   (-73.9419, 40.80902)  \n",
       "3                               1  (-73.95976, 40.68514)  \n",
       "4                               1  (-73.94399, 40.79851)  "
      ]
     },
     "execution_count": 5,
     "metadata": {},
     "output_type": "execute_result"
    }
   ],
   "source": [
    "df['coor'] = np.array(zip(df.longitude, df.latitude))\n",
    "df.head(5)"
   ]
  },
  {
   "cell_type": "code",
   "execution_count": 6,
   "metadata": {},
   "outputs": [],
   "source": [
    "API_key = user_config.user_key #enter the key you got from Google. I removed mine here\n",
    "\n",
    "client = openrouteservice.Client(key=API_key)\n"
   ]
  },
  {
   "cell_type": "code",
   "execution_count": 7,
   "metadata": {},
   "outputs": [
    {
     "name": "stderr",
     "output_type": "stream",
     "text": [
      "C:\\Users\\sahan\\Anaconda3\\lib\\site-packages\\openrouteservice\\client.py:214: UserWarning: Rate limit exceeded. Retrying for the 1st time.\n",
      "  stacklevel=1)\n",
      "C:\\Users\\sahan\\Anaconda3\\lib\\site-packages\\openrouteservice\\client.py:214: UserWarning: Rate limit exceeded. Retrying for the 2nd time.\n",
      "  stacklevel=1)\n",
      "C:\\Users\\sahan\\Anaconda3\\lib\\site-packages\\openrouteservice\\client.py:214: UserWarning: Rate limit exceeded. Retrying for the 3rd time.\n",
      "  stacklevel=1)\n",
      "C:\\Users\\sahan\\Anaconda3\\lib\\site-packages\\openrouteservice\\client.py:214: UserWarning: Rate limit exceeded. Retrying for the 4th time.\n",
      "  stacklevel=1)\n",
      "C:\\Users\\sahan\\Anaconda3\\lib\\site-packages\\openrouteservice\\client.py:214: UserWarning: Rate limit exceeded. Retrying for the 5th time.\n",
      "  stacklevel=1)\n",
      "C:\\Users\\sahan\\Anaconda3\\lib\\site-packages\\openrouteservice\\client.py:214: UserWarning: Rate limit exceeded. Retrying for the 6th time.\n",
      "  stacklevel=1)\n"
     ]
    }
   ],
   "source": [
    "value_dict_time = {\"central_park\": [],\"airport\": [], \"empire_state\": [], \n",
    "         \"time_square\": [],\"brooklyn_botanic_garden\": []}\n",
    "\n",
    "value_dict_dist = {\"central_park\": [],\"airport\": [], \"empire_state\": [], \n",
    "         \"time_square\": [],\"brooklyn_botanic_garden\": []}\n",
    "\n",
    "array_50 =[]\n",
    "for i in df['coor']:\n",
    "    array_50.append(i)\n",
    "    if len(array_50) == 50:\n",
    "        coordit = array_50 + dist\n",
    "        array_50 = []\n",
    "        check = client.distance_matrix(locations=coordit,\n",
    "                              metrics=['distance', 'duration'],\n",
    "                              profile='foot-walking',\n",
    "                              sources=list(range(50)),\n",
    "                              destinations = list(range(50,55)),\n",
    "                              validate=False)\n",
    "        j = 0\n",
    "        for name in value_dict_time:\n",
    "            \n",
    "            value_time = [round(x / 60.0,4) if x is not None else -1 for x in np.transpose(check['durations'])[j]]\n",
    "            value_dist = [round(x / 100.0,4) if x is not None else -1 for x in np.transpose(check['distances'])[j]]\n",
    "            \n",
    "            value_dict_time[name].append(value_time)\n",
    "            value_dict_dist[name].append(value_dist)\n",
    "            j += 1\n",
    "               "
   ]
  },
  {
   "cell_type": "code",
   "execution_count": 8,
   "metadata": {},
   "outputs": [],
   "source": [
    "coordit = array_50 + dist\n",
    "array_50 = []\n",
    "check = client.distance_matrix(locations=coordit,\n",
    "                              metrics=['distance', 'duration'],\n",
    "                              profile='foot-walking',\n",
    "                              sources=list(range(45)),\n",
    "                              destinations = list(range(45,50)),\n",
    "                              validate=False)\n",
    "j = 0\n",
    "for name in value_dict_time:\n",
    "            \n",
    "    value_time = [round(x / 60.0,4) if x is not None else -1 for x in np.transpose(check['durations'])[j]]\n",
    "    value_dist = [round(x / 100.0,4) if x is not None else -1 for x in np.transpose(check['distances'])[j]]\n",
    "            \n",
    "    value_dict_time[name].append(value_time)\n",
    "    value_dict_dist[name].append(value_dist)\n",
    "    j += 1"
   ]
  },
  {
   "cell_type": "code",
   "execution_count": 16,
   "metadata": {},
   "outputs": [],
   "source": [
    "def flatten(t):\n",
    "    return [item for sublist in t for item in sublist]"
   ]
  },
  {
   "cell_type": "code",
   "execution_count": 19,
   "metadata": {},
   "outputs": [],
   "source": [
    "q_1 = flatten(value_dict_time[\"central_park\"])\n",
    "q_2 = flatten(value_dict_time[\"airport\"])\n",
    "q_3 = flatten(value_dict_time[\"empire_state\"])\n",
    "q_4 = flatten(value_dict_time[\"time_square\"])\n",
    "q_5 = flatten(value_dict_time[\"brooklyn_botanic_garden\"])"
   ]
  },
  {
   "cell_type": "code",
   "execution_count": 21,
   "metadata": {},
   "outputs": [],
   "source": [
    "d_1 = flatten(value_dict_dist[\"central_park\"])\n",
    "d_2 = flatten(value_dict_dist[\"airport\"])\n",
    "d_3 = flatten(value_dict_dist[\"empire_state\"])\n",
    "d_4 = flatten(value_dict_dist[\"time_square\"])\n",
    "d_5 = flatten(value_dict_dist[\"brooklyn_botanic_garden\"])"
   ]
  },
  {
   "cell_type": "code",
   "execution_count": 22,
   "metadata": {},
   "outputs": [],
   "source": [
    "df[\"time_to_central_park\"] = q_1\n",
    "df[\"time_to_airport\"] = q_2\n",
    "df[\"time_to_empire_state\"] = q_3\n",
    "df[\"time_to_time_square\"] = q_4\n",
    "df[\"time_to_brooklyn_botanic_garden\"] = q_5"
   ]
  },
  {
   "cell_type": "code",
   "execution_count": 23,
   "metadata": {},
   "outputs": [],
   "source": [
    "df[\"distance_to_central_park\"] = d_1\n",
    "df[\"distance_to_airport\"] = d_2\n",
    "df[\"distance_to_empire_state\"] = d_3\n",
    "df[\"distance_to_time_square\"] = d_4\n",
    "df[\"distance_to_brooklyn_botanic_garden\"] = d_5"
   ]
  },
  {
   "cell_type": "code",
   "execution_count": 24,
   "metadata": {},
   "outputs": [],
   "source": [
    "df_final = df.drop(columns=['coor', 'latitude','longitude'])"
   ]
  },
  {
   "cell_type": "code",
   "execution_count": 25,
   "metadata": {},
   "outputs": [],
   "source": [
    "df_final.to_csv('data_time.csv',index=False)"
   ]
  },
  {
   "cell_type": "code",
   "execution_count": null,
   "metadata": {},
   "outputs": [],
   "source": []
  }
 ],
 "metadata": {
  "kernelspec": {
   "display_name": "Python 3",
   "language": "python",
   "name": "python3"
  },
  "language_info": {
   "codemirror_mode": {
    "name": "ipython",
    "version": 3
   },
   "file_extension": ".py",
   "mimetype": "text/x-python",
   "name": "python",
   "nbconvert_exporter": "python",
   "pygments_lexer": "ipython3",
   "version": "3.7.0"
  }
 },
 "nbformat": 4,
 "nbformat_minor": 2
}
